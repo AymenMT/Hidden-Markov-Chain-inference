{
 "cells": [
  {
   "cell_type": "code",
   "execution_count": 399,
   "metadata": {},
   "outputs": [],
   "source": [
    "import numpy as np\n",
    "import matplotlib.pyplot as plt\n",
    "plt.rcParams[\"figure.figsize\"] = [16,6]"
   ]
  },
  {
   "cell_type": "markdown",
   "metadata": {},
   "source": [
    "# <font color='color'> Introduction </font>"
   ]
  },
  {
   "cell_type": "markdown",
   "metadata": {},
   "source": [
    "A robot is moving across a circular corridor. We assume that the possible positions of the robot is **a discrete set with\n",
    "N locations**.\n",
    "Given the robot sensors' measurements $Y_i$, $i \\in (1..K)$, we aim to modelize the robot's real position (hidden variable $X_i$, $i \\in (1..K)$) following the *Hidden Markov chain* model\n",
    "![alt text](https://raw.githubusercontent.com/AymenMT/Robot-s-position-estimation/master/p2.PNG \"*Hidden Markov chain*\")\n",
    "\n",
    "This will allow us to simulate the scenario and to estimate some important distributions such as the robot's current position given the observations so far and the most likely current position of the robot given the observations so far...\n",
    "\n"
   ]
  },
  {
   "cell_type": "markdown",
   "metadata": {},
   "source": [
    "# <font color='color'> Question 0 : Numerically Stable computation of $log(\\sum exp(l_i))$ </font>\n"
   ]
  },
  {
   "cell_type": "markdown",
   "metadata": {},
   "source": [
    "Before starting to modelize our problem, we implement a stable computation method of $L = log(\\sum exp(l_i))$. In fact, the more $l_i$ is low, the harder it becomes to calculate the expression directly. To insure the stability of the computation, one method consists at introducing $l_{max} = max_i {l_i}$ in the expression of $L$ as following:\n",
    "\n",
    "\\begin{align}\n",
    "log(\\sum exp(l_i)) &= log(\\sum exp(l_i - l_{max} + l_{max})) \\\\\n",
    "           &= log( exp(l_{max})  \\sum exp(l_i - l_{max})) \\\\\n",
    "           &= l_{max} + log(\\sum exp(l_i - l_{max}))\n",
    "\\end{align}"
   ]
  },
  {
   "cell_type": "code",
   "execution_count": 400,
   "metadata": {},
   "outputs": [],
   "source": [
    "def calculate_log_sum_exp(v):\n",
    "    v_max = np.max(v)\n",
    "    return v_max + np.log(np.sum(np.exp(v - np.repeat(v_max, len(v)))))"
   ]
  },
  {
   "cell_type": "markdown",
   "metadata": {},
   "source": [
    "#### Exemple d'application : "
   ]
  },
  {
   "cell_type": "markdown",
   "metadata": {},
   "source": [
    "If we try to calculate directly $L$, for $l = \\begin{pmatrix} -1234 \\\\ -1235\\end{pmatrix}$, we obtain :"
   ]
  },
  {
   "cell_type": "code",
   "execution_count": 401,
   "metadata": {},
   "outputs": [
    {
     "name": "stderr",
     "output_type": "stream",
     "text": [
      "C:\\Users\\MTIBAA\\Anaconda3\\lib\\site-packages\\ipykernel_launcher.py:2: RuntimeWarning: divide by zero encountered in log\n",
      "  \n"
     ]
    },
    {
     "data": {
      "text/plain": [
       "-inf"
      ]
     },
     "execution_count": 401,
     "metadata": {},
     "output_type": "execute_result"
    }
   ],
   "source": [
    "l = [-1234, -1235]\n",
    "np.log(np.sum(np.exp(l)))"
   ]
  },
  {
   "cell_type": "markdown",
   "metadata": {},
   "source": [
    "But if we use our stable method, we obtain :"
   ]
  },
  {
   "cell_type": "code",
   "execution_count": 402,
   "metadata": {},
   "outputs": [
    {
     "data": {
      "text/plain": [
       "-1233.6867383124818"
      ]
     },
     "execution_count": 402,
     "metadata": {},
     "output_type": "execute_result"
    }
   ],
   "source": [
    "calculate_log_sum_exp(l)"
   ]
  },
  {
   "cell_type": "markdown",
   "metadata": {},
   "source": [
    "# <font color='color'> Question 1 : Model definition </font>"
   ]
  },
  {
   "cell_type": "markdown",
   "metadata": {},
   "source": [
    "As presented in the introduction, in order to modelize our problem, we define two variables : \n",
    "\n",
    "* $X_i$ $\\in$ {1,..N}, i $\\in$ {1,..K} : a *hidden variable* which express the real position of the robot in the step k\n",
    "* $Y_i$ $\\in$ {1,..N}, i $\\in$ {1,..K} : an observation variable which express the observed position of the robot using its sensors in the step k\n",
    "\n",
    "The generative model is represented by the transition model and the observations model : \n",
    "\n",
    "* Transition model : $x_k \\sim P( x_{k+1} | x_k )$\n",
    "\n",
    "* Observation model : $y_k \\sim P( y_{k} | x_k )$  \n",
    "\n",
    "![alt text](https://raw.githubusercontent.com/AymenMT/Robot-s-position-estimation/master/p2.PNG \"*Hidden Markov chain*\")\n",
    "\n",
    "In order to build our transition and observation models, a prior was set as following : \n",
    "\n",
    "1. The initial position of the robot is unknown and assumed to be uniformly distributed\n",
    "\n",
    "2. At each step k, the robot stays where it is with probability $\\epsilon$, or moves to the next point in counter-clock direction with probability $1- \\epsilon$\n",
    "\n",
    "3. At each step k, the robot can observe its true position with probability $w$. With probability $1 - w$, the position sensor fails and gives a measurement that is independent from the true position (uniformly distributed)."
   ]
  },
  {
   "cell_type": "markdown",
   "metadata": {},
   "source": [
    "# <font color='color'> Question 2 : Transition & Observation models definition </font>"
   ]
  },
  {
   "cell_type": "markdown",
   "metadata": {},
   "source": [
    "#### <font color='color'> Transition model</font> ####\n",
    "\n",
    "Following the second prior introduced in the previous question, we can set $P(x_{k+1} | x_k)$  (**Transition model**) as following :\n",
    "\n",
    "$$\n",
    "\\forall j \\in (1,..,N-1), \\quad \\mathbb{P}(x_{k+1} = i | x_k = j) = \\left\\{\n",
    "    \\begin{array}{ll}\n",
    "        1- \\epsilon & \\mbox{si } i = j + 1  \\\\\n",
    "        \\epsilon & \\mbox{si } i = j \\\\\n",
    "        0 & \\mbox{sinon }\n",
    "    \\end{array}\n",
    "\\right.\n",
    "$$\n",
    "\n",
    "Note that if $j = N$, $\\mathbb{P}(x_{k+1} = 1 | x_k = N) = 1 - \\epsilon$  (The robot moves to the next point in counter-clock direction), and $\\mathbb{P}(x_{k+1} = N | x_k = N) = \\epsilon$\n",
    "\n",
    "#### <font color='color'> Observation model</font> ####\n",
    "Now, we aim to calculate the **observation matrix** $(\\mathbb{P}( y_{k} = i | x_k = j))_{i,j}$. In fact, in order to detect the right position at a step k $(i == j)$, we have to possibilities : \n",
    "\n",
    "1. The robot observe its true position (probability = $w$)\n",
    "2. The robot fails to observe its right position (probability = $1 - w$) and select a random position. In this case, we have a $1/N$ probability to select the right position\n",
    "\n",
    "We can conclude that if $i = j$, $\\mathbb{P}( y_{k} = i | x_k = j) = w + 1/N (1 - w)$\n",
    "\n",
    "In the other hand, and for all the other cases where  $ i \\ne j$, we have $\\mathbb{P}( y_{k} = i | x_k = j) = 1/N (1 - w)$\n",
    "\n",
    "#### <font color='color'> Conclusion</font> ####\n",
    "\n",
    "** 1. Transition matrix** : \n",
    "\\begin{align}\n",
    "T \\quad &= \\quad \\left(\\begin{array}{ccccc}\n",
    "\\epsilon&0&\\cdots&\\cdots&1-\\epsilon\\\\\n",
    "1-\\epsilon&\\epsilon&\\ddots&\\ddots&0\\\\\n",
    "0&1-\\epsilon&\\ddots&0&\\vdots\\\\\n",
    "\\vdots&{}&\\ddots&\\ddots&0\\\\\n",
    "0&0&\\cdots&1-\\epsilon&\\epsilon\n",
    "\\end{array}\\right)\n",
    "\\end{align}\n",
    "\n",
    "** 2. Observation matrix** : \n",
    "\\begin{align}\n",
    "O \\quad &= \\quad \\left(\\begin{array}{ccccc}\n",
    "w + 1/N(1-w)&1/N(1-w)&\\cdots&\\cdots&1/N(1-w)\\\\\n",
    "1/N(1-w)&w + 1/N(1-w)&\\ddots&\\ddots&\\vdots\\\\\n",
    "\\vdots&1/N(1-w)&\\ddots&\\ddots&\\vdots\\\\\n",
    "\\vdots&{}&\\ddots&\\ddots&\\vdots\\\\\n",
    "\\vdots&{}&\\ddots&\\ddots&1/N(1-w)\\\\\n",
    "1/N(1-w)&\\cdots&\\cdots&1/N(1-w)&w + 1/N(1-w)\n",
    "\\end{array}\\right)\n",
    "\\end{align}"
   ]
  },
  {
   "cell_type": "markdown",
   "metadata": {},
   "source": [
    "#### <font color='color'> Parameters definition</font> ####"
   ]
  },
  {
   "cell_type": "code",
   "execution_count": 403,
   "metadata": {},
   "outputs": [],
   "source": [
    "# Number of states\n",
    "N = 50\n",
    "# Epsilon\n",
    "eps = 0.3 \n",
    "# w \n",
    "w = 0.8 \n",
    "# Moves number :\n",
    "K = 100"
   ]
  },
  {
   "cell_type": "markdown",
   "metadata": {},
   "source": [
    "#### <font color='color'> Implementation of the transition matrix</font> ####"
   ]
  },
  {
   "cell_type": "code",
   "execution_count": 404,
   "metadata": {},
   "outputs": [],
   "source": [
    "# Transition model \n",
    "# T == Transition matrix\n",
    "T = np.zeros((N,N))\n",
    "i,j = np.indices(A.shape)\n",
    "T[i == j] = eps\n",
    "T[i == j + 1] = (1-eps)\n",
    "T[0,N - 1] = 1 - eps"
   ]
  },
  {
   "cell_type": "code",
   "execution_count": 405,
   "metadata": {},
   "outputs": [
    {
     "data": {
      "text/plain": [
       "array([[0.3, 0. , 0. , ..., 0. , 0. , 0.7],\n",
       "       [0.7, 0.3, 0. , ..., 0. , 0. , 0. ],\n",
       "       [0. , 0.7, 0.3, ..., 0. , 0. , 0. ],\n",
       "       ...,\n",
       "       [0. , 0. , 0. , ..., 0.3, 0. , 0. ],\n",
       "       [0. , 0. , 0. , ..., 0.7, 0.3, 0. ],\n",
       "       [0. , 0. , 0. , ..., 0. , 0.7, 0.3]])"
      ]
     },
     "execution_count": 405,
     "metadata": {},
     "output_type": "execute_result"
    }
   ],
   "source": [
    "T"
   ]
  },
  {
   "cell_type": "markdown",
   "metadata": {},
   "source": [
    "#### <font color='color'> Implementation of the observation matrix</font> ####"
   ]
  },
  {
   "cell_type": "code",
   "execution_count": 406,
   "metadata": {},
   "outputs": [],
   "source": [
    "# Observation matrix\n",
    "# Oij = p ( Yk = i | Xk = j) : Observation matrix\n",
    "\n",
    "\n",
    "O = ((1 / N) * (1 - w)) * np.ones((N,N))\n",
    "i,j = np.indices(O.shape)\n",
    "O[i == j] = w + (1 / N) * (1 - w)"
   ]
  },
  {
   "cell_type": "code",
   "execution_count": 407,
   "metadata": {},
   "outputs": [
    {
     "data": {
      "text/plain": [
       "array([[0.804, 0.004, 0.004, ..., 0.004, 0.004, 0.004],\n",
       "       [0.004, 0.804, 0.004, ..., 0.004, 0.004, 0.004],\n",
       "       [0.004, 0.004, 0.804, ..., 0.004, 0.004, 0.004],\n",
       "       ...,\n",
       "       [0.004, 0.004, 0.004, ..., 0.804, 0.004, 0.004],\n",
       "       [0.004, 0.004, 0.004, ..., 0.004, 0.804, 0.004],\n",
       "       [0.004, 0.004, 0.004, ..., 0.004, 0.004, 0.804]])"
      ]
     },
     "execution_count": 407,
     "metadata": {},
     "output_type": "execute_result"
    }
   ],
   "source": [
    "O"
   ]
  },
  {
   "cell_type": "markdown",
   "metadata": {},
   "source": [
    "#### <font color='color'> Matrices verification : stochastic ?</font> ####"
   ]
  },
  {
   "cell_type": "code",
   "execution_count": 408,
   "metadata": {},
   "outputs": [
    {
     "name": "stdout",
     "output_type": "stream",
     "text": [
      "Dimensions de T = (50, 50)\n",
      "Sum of the Sum of columns of T = 50.0\n",
      "Sum of the Sum of rows of T = 50.0\n"
     ]
    }
   ],
   "source": [
    "print ('Dimensions de T = ' + str(T.shape))\n",
    "print ('Sum of the Sum of columns of T = ' + str(np.sum(np.sum(T,axis = 1))))\n",
    "print ('Sum of the Sum of rows of T = ' + str(np.sum(np.sum(T,axis = 0))))"
   ]
  },
  {
   "cell_type": "code",
   "execution_count": 409,
   "metadata": {},
   "outputs": [
    {
     "name": "stdout",
     "output_type": "stream",
     "text": [
      "Dimensions de O = (50, 50)\n",
      "Sum of the Sum of columns of O = 50.0\n",
      "Sum of the Sum of rows of O = 50.0\n"
     ]
    }
   ],
   "source": [
    "print ('Dimensions de O = ' + str(O.shape))\n",
    "print ('Sum of the Sum of columns of O = ' + str(np.sum(np.sum(O,axis = 1))))\n",
    "print ('Sum of the Sum of rows of O = ' + str(np.sum(np.sum(O,axis = 0))))"
   ]
  },
  {
   "cell_type": "markdown",
   "metadata": {},
   "source": [
    "# <font color='color'> Question 3 : Posterior quantities </font>"
   ]
  },
  {
   "cell_type": "markdown",
   "metadata": {},
   "source": [
    "Here, we're going to express some posterior quantities in a mathematical notation. We will calculate some of them later.\n",
    "\n",
    "**1. Distribution of the robot's current position given the observations so far :** $\\quad p(x_{k} | y_{1:k} )$\n",
    "\n",
    "\n",
    "**2. Distribution of the robot's position at time step k given all the observations :** $\\quad p(x_{k} | y_{1:K} )$\n",
    "\n",
    "\n",
    "**3. Distribution of the robot's next position given the observations so far :** $\\quad p(x_{k+1} | y_{1:k} )$\n",
    "\n",
    "\n",
    "**4. Distribution of the robot's next sensor reading given the observations so far : **$\\quad p(y_{k+1} | y_{1:k} )$\n",
    "\n",
    "\n",
    "**5. Distribution of the robot's initial position given observations so far :** $\\quad p(x_{1} | y_{1:k} )$\n",
    "\n",
    "\n",
    "**6. Most likely current position of the robot given the observations so far : **$\\quad max_{i} \\quad p(x_{k} = i\\quad | \\quad y_{1:k} )$\n",
    "\n",
    "\n",
    "**7. Most likely trajectory taken by the robot from the start until now given the observations so far :** $\\quad argmax_{x_{1:k}}\\quad p(x_{1:k}| y_{1:k} )$"
   ]
  },
  {
   "cell_type": "markdown",
   "metadata": {},
   "source": [
    "# <font color='color'> Question 4 : Scenario simulation </font>"
   ]
  },
  {
   "cell_type": "code",
   "execution_count": 410,
   "metadata": {},
   "outputs": [],
   "source": [
    "def hmm_generate_data(trans_matrix, obs_matrix, K):\n",
    "    \"\"\" \n",
    "    This function takes transition and observation matrices and simulate states and observations path\n",
    "    following those distributions\n",
    "    \n",
    "    input :\n",
    "    trans_matrix : matrix N*N, dtype = int(N*N)\n",
    "    obs_matrix : matrix N*N, dtype = int(N*N)\n",
    "    \n",
    "    Output : \n",
    "    states : a vector of K simulated states, dtype = int(K)\n",
    "    obs : a vector of K simulated observations, dtype = int(K)\n",
    "    \"\"\"\n",
    "    states = np.zeros(K, dtype=int);\n",
    "    obs = np.zeros(K, dtype=int)\n",
    "\n",
    "    # First state : \n",
    "    states[0] = int(np.random.randint(low=1, high=N, size=1))\n",
    "    # First observation :\n",
    "    obs[0] = int(np.random.choice(np.arange(1,N + 1), 1, p=obs_matrix[:,states[0] - 1]))\n",
    "\n",
    "    for k in np.arange(1, K):\n",
    "\n",
    "        states[k] = int(np.random.choice(np.arange(1,N + 1), 1, p=trans_matrix[ :, states[k - 1] - 1 ]))\n",
    "        obs[k] = int(np.random.choice(np.arange(1,N + 1), 1, p=obs_matrix[:,states[k] - 1]))\n",
    "        \n",
    "    return states, obs"
   ]
  },
  {
   "cell_type": "markdown",
   "metadata": {},
   "source": [
    "#### <font color='color'> Simulation example</font> ####"
   ]
  },
  {
   "cell_type": "code",
   "execution_count": 457,
   "metadata": {},
   "outputs": [],
   "source": [
    "states, obs = hmm_generate_data(T, O, K)"
   ]
  },
  {
   "cell_type": "markdown",
   "metadata": {},
   "source": [
    "#### <font color='color'> Plot of states and observations</font> ####"
   ]
  },
  {
   "cell_type": "code",
   "execution_count": 458,
   "metadata": {},
   "outputs": [
    {
     "data": {
      "image/png": "[encoded data removed]",
      "text/plain": [
       "<Figure size 1152x432 with 1 Axes>"
      ]
     },
     "metadata": {},
     "output_type": "display_data"
    }
   ],
   "source": [
    "plt.plot(np.arange(1, K+1), states, 'ro',   label='States')\n",
    "plt.plot(np.arange(1, K+1), obs, 'bo',   label='Observations')\n",
    "plt.axis([0,100,0,50])\n",
    "plt.xlabel('step k')\n",
    "plt.ylabel('position')\n",
    "plt.title('States and observations paths ')\n",
    "plt.legend()\n",
    "plt.show()"
   ]
  },
  {
   "cell_type": "markdown",
   "metadata": {},
   "source": [
    "**Interpretations : **\n",
    "\n",
    "* We can see that most of the observations are the same as the states simulations (real positions). This is because of our choice of $w$. In fact, the probability of having an observation equal to the real state is much higher than having a random position ( $w + 1/N(1-w) - 1/N(1-w) = w = 0.8$)\n",
    "\n",
    "* We can also see that we have states as a stair function of k. This is because of the nature of our problem (the robot moves to the next point in counter-clock direction) "
   ]
  },
  {
   "cell_type": "markdown",
   "metadata": {},
   "source": [
    "# <font color='color'> Question 5 : Forward-Backward algorithm </font>"
   ]
  },
  {
   "cell_type": "markdown",
   "metadata": {},
   "source": [
    "### a- Forward algorithm to calculate the distribution of the robot's current position given the observations so far : $\\quad p(x_{k} | y_{1:k} )$"
   ]
  },
  {
   "cell_type": "markdown",
   "metadata": {},
   "source": [
    "![alt text](https://raw.githubusercontent.com/AymenMT/Robot-s-position-estimation/master/p3.PNG \"*Hidden Markov chain*\")"
   ]
  },
  {
   "cell_type": "markdown",
   "metadata": {},
   "source": [
    "###### Principe"
   ]
  },
  {
   "cell_type": "markdown",
   "metadata": {},
   "source": [
    "By applying the *product rule*, we obtain : \n",
    "\n",
    "\\begin{align}\n",
    "P( x_k | y_{1:k} ) &= \\frac{P( x_k , y_{1:k} )}{P(y_{1:k})} \n",
    "\\end{align}\n",
    "\n",
    "If we write $ \\alpha_{k|k}(x_k) = P( x_k , y_{1:k} ) $, we obtain : \n",
    "\n",
    "\\begin{align}\n",
    "P(y_{1:k}) &= \\sum_{x_k} P(y_{1:k}, x_k)\\\\\n",
    "           &= \\sum_{x_k} \\alpha_{k|k}(x_k)\n",
    "\\end{align}\n",
    "\n",
    "**Finally, we have :\n",
    "\\begin{align}\n",
    "P( x_k | y_{1:k}\n",
    ") &= \\frac{\\alpha_{k|k}(x_k)}{\\sum_{x_k} \\alpha_{k|k}(x_k)} \n",
    "\\end{align}** \n",
    "\n",
    "In order to calculate $\\alpha_{k|k}(x_k)$, an iterative method is proposed : Forward algorithm. It consists at two steps : \n",
    "\n",
    "<font color='color'> **1. Prediction **: </font> \n",
    "\n",
    "\\begin{align}\n",
    "\\alpha_{k|k-1}(x_k) &= P( y_{1:k-1}, x_k ) = \\sum_{x_{k-1}} P( x_k | x_{k - 1} ) P( y_{1:k-1} | x_{k-1} ) \\\\\n",
    "                    &= \\sum_{x_{k-1}} P( x_k | x_{k - 1} ) \\alpha_{k-1|k-1}(x_{k-1}), with \\quad \\alpha_{1|0}(x_{1}) = p(x1)\n",
    "\\end{align}\n",
    "\n",
    "<font color='color'> **2. Update **: </font> \n",
    "\n",
    "\\begin{align}\n",
    "\\alpha_{k|k}(x_k) &= P( y_{1:k}, x_k ) = P( y_{k}| x_k ) P( y_{1:k-1}, x_k ) \\\\\n",
    "                    &= P( y_{k}| x_k ) \\alpha_{k|k-1}(x_k)\n",
    "\\end{align}"
   ]
  },
  {
   "cell_type": "markdown",
   "metadata": {},
   "source": [
    "### Prediction function"
   ]
  },
  {
   "cell_type": "markdown",
   "metadata": {},
   "source": [
    "In this step, we will calculate  $\\log \\alpha$ instead of $\\alpha$. Then, we will use the stable numerical calculations in ordre to make the prediction."
   ]
  },
  {
   "cell_type": "code",
   "execution_count": 459,
   "metadata": {},
   "outputs": [],
   "source": [
    "def state_predict(trans_matrix, log_alpha_k_k):\n",
    "    \"\"\"\n",
    "    This function makes the prediction step (in logarithm)\n",
    "    input :\n",
    "    trans_matrix : (N*N) matrix, dtypes = int(N,N)\n",
    "    log_alpha_k_k : vector(N) : updated message, dtypes = ndarray(N)\n",
    "    \n",
    "    output\n",
    "    predicted_message : log_alpha_k_(k-1) :vector(N), dtypes = ndarray(N)\n",
    "    \"\"\"\n",
    "    max_log_alpha_k_k = np.max(log_alpha_k_k)\n",
    "    \n",
    "    p = np.exp(log_alpha_k_k - max_log_alpha_k_k)\n",
    "    predicted_message = max_log_alpha_k_k + np.log(np.dot(trans_matrix,p))\n",
    "    \n",
    "    return(predicted_message)"
   ]
  },
  {
   "cell_type": "code",
   "execution_count": 460,
   "metadata": {},
   "outputs": [],
   "source": [
    "def state_update(obs_vector, log_alpha_k_k_1):\n",
    "    \"\"\"\n",
    "    This function makes the update step (in logarithm)\n",
    "    input :\n",
    "    obs_vector : (N*N) matrix, dtypes = int(N,N)\n",
    "    log_alpha_k_k_1 : vector(N) : predicted message, dtypes = ndarray(N)\n",
    "    \n",
    "    output\n",
    "    updated_message : log_alpha_k_k :vector(N), dtypes = ndarray(N)\n",
    "    \"\"\"\n",
    "    updated_message = np.log(obs_vector) + log_alpha_k_k_1\n",
    "    return(updated_message)"
   ]
  },
  {
   "cell_type": "code",
   "execution_count": 461,
   "metadata": {},
   "outputs": [],
   "source": [
    "def forward_algorithm (obs_matrix, trans_matrix, p_x1, observations , N, k):\n",
    "    \"\"\"\n",
    "    This is the forward_algorithm function from the step 1 to step k\n",
    "    input :\n",
    "    obs_matrix : (N*N) matrix, dtypes = int(N,N)\n",
    "    trans_matrix : (N*N) matrix, dtypes = int(N,N)\n",
    "    p_x1 : first state distribution, dtypes = ndarray(N)\n",
    "    observations : sequence of observations from step 1 to k, , dtypes = int(k)\n",
    "    N : Number of states, dtype=int\n",
    "    k : Number of steps, dtype=int\n",
    "    \n",
    "    output\n",
    "    log_alpha_k_(k-1) :matrix(N*k) contains all predicted_messages from step 1 to k, dtypes = ndarray(N*k)\n",
    "    log_alpha_k_k : contains all updated_messages from step 1 to k, dtypes = ndarray(N*k)\n",
    "    \"\"\"\n",
    "    log_alpha_k_k_1 = np.zeros((N, k))\n",
    "    log_alpha_k_k = np.zeros((N, k))\n",
    "    \n",
    "    # initialisation : log (alpha 1|0) : alpha j|j-1 pour j == 1\n",
    "    log_alpha_k_k_1[:,0] =  np.log(p_x1)\n",
    "    \n",
    "    # update & predict from j == 2 to j == K \n",
    "    for j in np.arange(1, k): # j commence de 1 pour l'accès au matrices :\n",
    "        # update\n",
    "        y_k = observations[j - 1]\n",
    "        log_alpha_k_k[:,j - 1] = state_update(obs_matrix[y_k - 1, :], log_alpha_k_k_1[:, j - 1])\n",
    "        \n",
    "        #predict\n",
    "        log_alpha_k_k_1[:, j] = state_predict(trans_matrix, log_alpha_k_k[:, j - 1])\n",
    "    \n",
    "    # calculate log_alpha_k_k ( k here is the last step)\n",
    "    y_k = observations[j]\n",
    "    log_alpha_k_k[:,j] = state_update(obs_matrix[y_k - 1, :], log_alpha_k_k_1[:, j])\n",
    "    return (log_alpha_k_k, log_alpha_k_k_1)"
   ]
  },
  {
   "cell_type": "markdown",
   "metadata": {},
   "source": [
    "#### Example : Calculation of $\\alpha_{k|k}\\quad and \\quad\\alpha_{k|k-1} \\forall k \\in (1,..K)$"
   ]
  },
  {
   "cell_type": "code",
   "execution_count": 462,
   "metadata": {},
   "outputs": [],
   "source": [
    "k = K\n",
    "p_x1 = 1/N * np.ones(N)\n",
    "observations = obs[:K]\n",
    "log_alpha_k_k, log_alpha_k_k_1 = forward_algorithm (O, T, p_x1, observations , N, k)\n",
    "alpha_k_k = np.exp(log_alpha_k_k)\n",
    "alpha_k_k_1 = np.exp(log_alpha_k_k_1)\n"
   ]
  },
  {
   "cell_type": "markdown",
   "metadata": {},
   "source": [
    "**Given a step number k, we calculate the distribution of the robot's current position given the observations so far by running : forward_algorithm (O, T, p_x1, observations , N, k) or simply : \n",
    "most_likely_pos[k-1]**"
   ]
  },
  {
   "cell_type": "markdown",
   "metadata": {},
   "source": [
    "$P( x_k | y_{1:k})\\quad \\forall \\quad k  \\in (1..K)$"
   ]
  },
  {
   "cell_type": "code",
   "execution_count": 463,
   "metadata": {},
   "outputs": [],
   "source": [
    "result = alpha_k_k / np.sum(alpha_k_k, 0)"
   ]
  },
  {
   "cell_type": "markdown",
   "metadata": {},
   "source": [
    "**Given a step number k, we calculate the distribution of the robot's current position given the observations so far by running : forward_algorithm (O, T, p_x1, observations , N, k) or simply : \n",
    "result[k-1]**"
   ]
  },
  {
   "cell_type": "code",
   "execution_count": 464,
   "metadata": {},
   "outputs": [
    {
     "data": {
      "text/plain": [
       "(50, 100)"
      ]
     },
     "execution_count": 464,
     "metadata": {},
     "output_type": "execute_result"
    }
   ],
   "source": [
    "result.shape"
   ]
  },
  {
   "cell_type": "code",
   "execution_count": 465,
   "metadata": {},
   "outputs": [
    {
     "data": {
      "image/png": "[encoded data removed]",
      "text/plain": [
       "<Figure size 1152x432 with 2 Axes>"
      ]
     },
     "metadata": {},
     "output_type": "display_data"
    }
   ],
   "source": [
    "#Heatmap of p(Xk | Y1:k)\n",
    "# Here in this graph, the position 0 corresponds to the first state X1\n",
    "p1 = sns.heatmap(result, cmap=\"YlGnBu\")\n"
   ]
  },
  {
   "cell_type": "markdown",
   "metadata": {},
   "source": [
    "### b- Forward-Backward algorithm to calculate the distribution of the robot's position at time step k given all the observations : $\\quad p(x_{k} | y_{1:K} )$"
   ]
  },
  {
   "cell_type": "markdown",
   "metadata": {},
   "source": [
    "###### Principe"
   ]
  },
  {
   "cell_type": "markdown",
   "metadata": {},
   "source": [
    "We can calculate the distribution of the robot's position at time step k given all the observations using the following formula:  \n",
    "\n",
    "\\begin{align}\n",
    "P( x_k | y_{1:K} ) &= P(  y_{1:k}, x_k  ) P(  y_{k+1:K}, x_k  ) \\\\\n",
    "                   &= \\alpha_{k|k}(x_k) \\cdot \\beta_{k|k + 1}(x_k)\n",
    "\\end{align}\n",
    "\n",
    "If we write $ P( x_k | y_{1:K} ) = \\gamma_{k|k}(x_k) $, we obtain : \n",
    "\n",
    "**\\begin{align}\n",
    "\\gamma_{k|k}(x_k)  &= \\alpha_{k|k}(x_k) \\cdot \\beta_{k|k + 1}(x_k)\n",
    "\\end{align}**\n",
    "\n",
    "\n",
    "\n",
    "In order to calculate $\\beta_{k|k + 1}(x_k)$, an iterative method is proposed : Backward algorithm. It consists at two steps : \n",
    "\n",
    "<font color='color'> **1. Postdic **: </font> \n",
    "\n",
    "\\begin{align}\n",
    "\\beta_{k|k + 1}(x_k) &= P(  y_{k+1:K}, x_k  ) = \\sum_{x_{k+1}} P( x_{k+1} | x_{k} ) P( y_{k+1:K} | x_{k+1} ) \\\\\n",
    "                    &= \\sum_{x_{k+1}} P( x_{k+1} | x_{k} ) \\beta_{k + 1|k + 1}(x_{k+1}), with \\quad \\beta_{K|K + 1}(x_{K}) = 1\n",
    "\\end{align}\n",
    "\n",
    "<font color='color'> **2. Update **: </font> \n",
    "\n",
    "\\begin{align}\n",
    "\\beta_{k|k}(x_k) &= P( y_{k:K}| x_k ) = P( y_{k}| x_k ) P( y_{k+1:K}, x_k ) \\\\\n",
    "                    &= P( y_{k}| x_k ) \\beta_{k|k + 1}(x_k)\n",
    "\\end{align}"
   ]
  },
  {
   "cell_type": "markdown",
   "metadata": {},
   "source": [
    "### Postdict function"
   ]
  },
  {
   "cell_type": "markdown",
   "metadata": {},
   "source": [
    "In this step, we will calculate  $\\log \\beta$ instead of $\\beta$. Then, we will use the stable numerical calculations in ordre to calculate the result."
   ]
  },
  {
   "cell_type": "code",
   "execution_count": 466,
   "metadata": {},
   "outputs": [],
   "source": [
    "def state_postdict(trans_matrix, log_beta_k_plus_k_plus):\n",
    "    \"\"\"\n",
    "    This function makes the postidct step (in logarithm)\n",
    "    input :\n",
    "    trans_matrix : (N*N) matrix, dtypes = int(N,N)\n",
    "    log_beta_k_plus_k_plus : vector(N) : updated message, dtypes = ndarray(N)\n",
    "    \n",
    "    output\n",
    "    postdict_message : log_beta_k_(k+1) :vector(N), dtypes = ndarray(N)\n",
    "    \"\"\"\n",
    "    max_log = np.max(log_beta_k_plus_k_plus)\n",
    "    p = np.exp(log_beta_k_plus_k_plus - max_log)\n",
    "    postdict_message = np.log(np.dot(np.transpose(trans_matrix),p)) + max_log\n",
    "    return(postdict_message)"
   ]
  },
  {
   "cell_type": "code",
   "execution_count": 467,
   "metadata": {},
   "outputs": [
    {
     "data": {
      "text/plain": [
       "array([99, 98, 97, 96, 95, 94, 93, 92, 91, 90, 89, 88, 87, 86, 85, 84, 83,\n",
       "       82, 81, 80, 79, 78, 77, 76, 75, 74, 73, 72, 71, 70, 69, 68, 67, 66,\n",
       "       65, 64, 63, 62, 61, 60, 59, 58, 57, 56, 55, 54, 53, 52, 51, 50, 49,\n",
       "       48, 47, 46, 45, 44, 43, 42, 41, 40, 39, 38, 37, 36, 35, 34, 33, 32,\n",
       "       31, 30, 29, 28, 27, 26, 25, 24, 23, 22, 21, 20, 19, 18, 17, 16, 15,\n",
       "       14, 13, 12, 11, 10,  9,  8,  7,  6,  5,  4,  3,  2,  1,  0])"
      ]
     },
     "execution_count": 467,
     "metadata": {},
     "output_type": "execute_result"
    }
   ],
   "source": [
    "np.arange(K - 1, -1 , -1)"
   ]
  },
  {
   "cell_type": "code",
   "execution_count": 468,
   "metadata": {},
   "outputs": [],
   "source": [
    "def backward_algorithm(obs_matrix, trans_matrix, observations , N, K):\n",
    "    \"\"\"\n",
    "    This is the backward_algorithm function from the step K to step 1\n",
    "    input :\n",
    "    obs_matrix : (N*N) matrix, dtypes = int(N,N)\n",
    "    trans_matrix : (N*N) matrix, dtypes = int(N,N)\n",
    "    observations : sequence of observations from step 1 to K, , dtypes = int(k)\n",
    "    N : Number of states, dtype=int\n",
    "    K : Number of steps, dtype=int\n",
    "    \n",
    "    output\n",
    "    log_beta_k_k :matrix(N*K) contains all updated_messages from step 1 to k, dtypes = ndarray(N*k)\n",
    "    log_beta_k_k_plus : contains all pstdict_messages from step 1 to k, dtypes = ndarray(N*k)\n",
    "    \"\"\"\n",
    "    log_beta_k_k_plus = np.zeros((N, K))\n",
    "    log_beta_k_k = np.zeros((N, K))\n",
    "    \n",
    "    # initialisation : log (beta K|K+1) = log (np.ones(N)) = np.zeros(N)\n",
    "    log_beta_k_k_plus[:,-1] =  np.zeros(N)\n",
    "    \n",
    "    # update & predict from j == K to j == 1 \n",
    "    for j in np.arange(K - 1, 0 , -1): \n",
    "        # update\n",
    "        y_j = observations[j]\n",
    "        log_beta_k_k[:,j] = state_update(obs_matrix[y_j - 1, :], log_beta_k_k_plus[:, j])\n",
    "        \n",
    "        #predict\n",
    "        log_beta_k_k_plus[:, j - 1] = state_postdict(trans_matrix, log_beta_k_k[:, j])\n",
    "        \n",
    "    return (log_beta_k_k, log_beta_k_k_plus)\n",
    "    "
   ]
  },
  {
   "cell_type": "code",
   "execution_count": 469,
   "metadata": {},
   "outputs": [],
   "source": [
    "k = 0\n",
    "log_beta_k_k, log_beta_k_k_plus = backward_algorithm(O, T, obs , N, K)\n",
    "beta_k_k = np.exp(log_beta_k_k)\n",
    "beta_k_k_plus = np.exp(log_beta_k_k_plus)"
   ]
  },
  {
   "cell_type": "code",
   "execution_count": 470,
   "metadata": {},
   "outputs": [],
   "source": [
    "log_gamma_k = log_alpha_k_k + log_beta_k_k_plus"
   ]
  },
  {
   "cell_type": "code",
   "execution_count": 471,
   "metadata": {},
   "outputs": [],
   "source": [
    "gamma_k = np.exp(log_gamma_k)"
   ]
  },
  {
   "cell_type": "code",
   "execution_count": 472,
   "metadata": {},
   "outputs": [],
   "source": [
    "gamma_k = gamma_k / np.sum(gamma_k, 0)"
   ]
  },
  {
   "cell_type": "markdown",
   "metadata": {},
   "source": [
    "**Given a step number k, we calculate the distribution of the robot's position at time step k given all the observations by running : \n",
    "gamma_k[k-1]**"
   ]
  },
  {
   "cell_type": "code",
   "execution_count": 473,
   "metadata": {},
   "outputs": [
    {
     "data": {
      "image/png": "[encoded data removed]",
      "text/plain": [
       "<Figure size 1152x432 with 2 Axes>"
      ]
     },
     "metadata": {},
     "output_type": "display_data"
    }
   ],
   "source": [
    "#We plot gamma_k heatmap\n",
    "# Here in this graph, the position 0 corresponds to the first state X1\n",
    "p1 = sns.heatmap(gamma_k, cmap=\"YlGnBu\")"
   ]
  },
  {
   "cell_type": "markdown",
   "metadata": {},
   "source": [
    "### c- Calculate the most likely current position of the robot given the observations so far : $\\quad max_{i} \\quad p(x_{k} = i\\quad | \\quad y_{1:k} )$"
   ]
  },
  {
   "cell_type": "markdown",
   "metadata": {},
   "source": [
    "###### Principe"
   ]
  },
  {
   "cell_type": "markdown",
   "metadata": {},
   "source": [
    "In **question 5-a**, we calculated the **distribution of the robot's current position given the observations so far** : $\\quad p(x_{k} | y_{1:k} ) \\quad \\forall k \\quad \\in (1..K)$ (at all steps).\n",
    "\n",
    "Now we aim to calculate the most likely position of the robot in each step, knowing only the observations so far. To do so, we need to find the position with the highest probability in each vector related to the step k. "
   ]
  },
  {
   "cell_type": "code",
   "execution_count": 474,
   "metadata": {},
   "outputs": [],
   "source": [
    "result = alpha_k_k / np.sum(alpha_k_k, 0)\n",
    "most_likely_pos = np.argmax(result,0) + 1 # the first element of the vector (indice = 0) corresponds to the postion X = 1"
   ]
  },
  {
   "cell_type": "markdown",
   "metadata": {},
   "source": [
    "**Given a step number k, we calculate the most likely current position of the robot given the observations so far by running : \n",
    "most_likely_pos[k-1]**"
   ]
  },
  {
   "cell_type": "code",
   "execution_count": 475,
   "metadata": {},
   "outputs": [
    {
     "data": {
      "image/png": "[encoded data removed]",
      "text/plain": [
       "<Figure size 1152x432 with 1 Axes>"
      ]
     },
     "metadata": {},
     "output_type": "display_data"
    }
   ],
   "source": [
    "plt.plot(np.arange(1, K+1), states, 'ro',   label='Real positions')\n",
    "plt.plot(np.arange(1, K+1), most_likely_pos, 'bo',   label='Most likely position')\n",
    "plt.axis([0,100,0,50])\n",
    "plt.xlabel('step k')\n",
    "plt.ylabel('position')\n",
    "plt.title('Real positions and most likely positions ')\n",
    "plt.legend()\n",
    "plt.show()"
   ]
  },
  {
   "cell_type": "markdown",
   "metadata": {},
   "source": [
    "# <font color='color'> Question 6 : new prior  </font>"
   ]
  },
  {
   "cell_type": "markdown",
   "metadata": {},
   "source": [
    "In this question, we assume that the robot can be kidnapped at each step k. This assumption implies that **our transition model needs to be adjusted**. In the other hand, **the observation model doesn't need any update.** In fact, the sensors still can detect the real position with a probabilities w.\n",
    "\n",
    "\n",
    "At each step k, we have **two possibilities** : \n",
    "\n",
    "1. With a probability equal to $\\kappa$, the robot will be kidnapped. In this case :\n",
    "\\begin{align}\n",
    "p(x_{k+1} = i | x_k = j)  &=p(x_{k+1} = i)  &= \\left(\\begin{array}{c}\n",
    "1/N \\\\ \\vdots \\\\ 1/N\n",
    "\\end{array}\\right)\n",
    "\\end{align}\n",
    "\n",
    "2. With a probability equal to $1 - \\kappa$, the robot will not be kidnapped. In this case :\n",
    "\n",
    "$$\n",
    "\\forall j \\in (1,..,N-1), \\quad \\mathbb{P}(x_{k+1} = i | x_k = j) = \\left\\{\n",
    "    \\begin{array}{ll}\n",
    "        1- \\epsilon & \\mbox{si } i = j + 1  \\\\\n",
    "        \\epsilon & \\mbox{si } i = j \\\\\n",
    "        0 & \\mbox{sinon }\n",
    "    \\end{array}\n",
    "\\right.\n",
    "$$\n",
    "Note that, for the second case, if $j = N$, $\\mathbb{P}(x_{k+1} = 1 | x_k = N) = 1 - \\epsilon$  (The robot moves to the next point in counter-clock direction), and $\\mathbb{P}(x_{k+1} = N | x_k = N) = \\epsilon$\n",
    "\n",
    "#### <font color='color'> New Transition model</font> ####\n",
    "\n",
    "Following this new prior, we can set $P(x_{k+1} | x_k)$  (**Transition model**) as following :\n",
    "\n",
    "$$\n",
    "\\forall j \\in (1,..,N-1), \\quad \\mathbb{P}(x_{k+1} = i | x_k = j) = \\left\\{\n",
    "    \\begin{array}{ll}\n",
    "        (1 - \\kappa)(1- \\epsilon) + \\kappa/N & \\mbox{si } i = j + 1  \\\\\n",
    "        (1 - \\kappa)\\epsilon  + \\kappa/N & \\mbox{si } i = j \\\\\n",
    "        \\kappa/N & \\mbox{sinon }\n",
    "    \\end{array}\n",
    "\\right.\n",
    "$$\n",
    "\n",
    "Note that if $j = N$, $\\mathbb{P}(x_{k+1} = 1 | x_k = N) = (1 - \\kappa)(1- \\epsilon) + \\kappa/N $  (The robot moves to the next point in counter-clock direction), and $\\mathbb{P}(x_{k+1} = N | x_k = N) = (1 - \\kappa)\\epsilon  + \\kappa/N$\n",
    "\n",
    "\n",
    "#### <font color='color'> New Transition matrix</font> ####\n",
    "\n",
    "\\begin{align}\n",
    "T \\quad &= \\quad \\left(\\begin{array}{cccc}\n",
    "(1 - \\kappa)\\epsilon  + \\kappa/N&\\kappa/N&\\cdots&(1 - \\kappa)(1- \\epsilon) + \\kappa/N\\\\\n",
    "(1 - \\kappa)(1- \\epsilon) + \\kappa/N&(1 - \\kappa)\\epsilon  + \\kappa/N&\\ddots&\\kappa/N\\\\\n",
    "\\kappa/N&(1 - \\kappa)(1- \\epsilon) + \\kappa/N&\\ddots&\\vdots\\\\\n",
    "\\vdots&\\ddots&\\ddots&\\kappa/N\\\\\n",
    "\\kappa/N&\\cdots&(1 - \\kappa)(1- \\epsilon) + \\kappa/N&(1 - \\kappa)\\epsilon  + \\kappa/N\n",
    "\\end{array}\\right)\n",
    "\\end{align}\n"
   ]
  },
  {
   "cell_type": "markdown",
   "metadata": {},
   "source": [
    "### <font color='color'> a- New simulation with a new transition model</font>"
   ]
  },
  {
   "cell_type": "markdown",
   "metadata": {},
   "source": [
    "**We can reuse our pervious codes** to simulate new states and observations and to estimated the previous distributions mentionned in question 5. The only exception is that **we need to change the new transition matrix.**"
   ]
  },
  {
   "cell_type": "code",
   "execution_count": 476,
   "metadata": {},
   "outputs": [],
   "source": [
    "kappa = 0.1\n",
    "# Transition model \n",
    "# T == Transition matrix\n",
    "T = np.ones((N,N)) * kappa/N\n",
    "\n",
    "i,j = np.indices(T.shape)\n",
    "T[i == j] = (1 - kappa)*eps + (kappa/N)\n",
    "T[i == j + 1] = (1 - kappa)*(1 - eps) + (kappa/N)\n",
    "T[0,N - 1] = (1 - kappa)*(1 - eps) + (kappa/N)"
   ]
  },
  {
   "cell_type": "code",
   "execution_count": 477,
   "metadata": {},
   "outputs": [
    {
     "data": {
      "text/plain": [
       "array([[0.272, 0.002, 0.002, ..., 0.002, 0.002, 0.632],\n",
       "       [0.632, 0.272, 0.002, ..., 0.002, 0.002, 0.002],\n",
       "       [0.002, 0.632, 0.272, ..., 0.002, 0.002, 0.002],\n",
       "       ...,\n",
       "       [0.002, 0.002, 0.002, ..., 0.272, 0.002, 0.002],\n",
       "       [0.002, 0.002, 0.002, ..., 0.632, 0.272, 0.002],\n",
       "       [0.002, 0.002, 0.002, ..., 0.002, 0.632, 0.272]])"
      ]
     },
     "execution_count": 477,
     "metadata": {},
     "output_type": "execute_result"
    }
   ],
   "source": [
    "T"
   ]
  },
  {
   "cell_type": "markdown",
   "metadata": {},
   "source": [
    "#### <font color='color'> Matrices verification : stochastic ?</font> ####"
   ]
  },
  {
   "cell_type": "code",
   "execution_count": 478,
   "metadata": {},
   "outputs": [
    {
     "name": "stdout",
     "output_type": "stream",
     "text": [
      "Dimensions de T = (50, 50)\n",
      "Sum of the Sum of columns of T = 50.0\n",
      "Sum of the Sum of rows of T = 50.0\n"
     ]
    }
   ],
   "source": [
    "print ('Dimensions de T = ' + str(T.shape))\n",
    "print ('Sum of the Sum of columns of T = ' + str(np.sum(np.sum(T,axis = 1))))\n",
    "print ('Sum of the Sum of rows of T = ' + str(np.sum(np.sum(T,axis = 0))))"
   ]
  },
  {
   "cell_type": "code",
   "execution_count": 479,
   "metadata": {},
   "outputs": [],
   "source": [
    "states, obs = hmm_generate_data(T, O, K)"
   ]
  },
  {
   "cell_type": "markdown",
   "metadata": {},
   "source": [
    "#### <font color='color'> Plot of states and observations</font> ####"
   ]
  },
  {
   "cell_type": "code",
   "execution_count": 480,
   "metadata": {},
   "outputs": [
    {
     "data": {
      "image/png": "[encoded data removed]",
      "text/plain": [
       "<Figure size 1152x432 with 1 Axes>"
      ]
     },
     "metadata": {},
     "output_type": "display_data"
    }
   ],
   "source": [
    "plt.plot(np.arange(1, K+1), states, 'ro',   label='States')\n",
    "plt.plot(np.arange(1, K+1), obs, 'bo',   label='Observations')\n",
    "plt.axis([0,100,0,50])\n",
    "plt.xlabel('step k')\n",
    "plt.ylabel('position')\n",
    "plt.title('States and observations paths ')\n",
    "plt.legend()\n",
    "plt.show()"
   ]
  },
  {
   "cell_type": "markdown",
   "metadata": {},
   "source": [
    "### <font color='color'> a- New estimations </font>"
   ]
  },
  {
   "cell_type": "markdown",
   "metadata": {},
   "source": [
    "##### Forward algorithm to calculate the distribution of the robot's current position given the observations so far : $\\quad p(x_{k} | y_{1:k} )$"
   ]
  },
  {
   "cell_type": "code",
   "execution_count": 481,
   "metadata": {},
   "outputs": [],
   "source": [
    "k = K\n",
    "p_x1 = 1/N * np.ones(N)\n",
    "observations = obs[:K]\n",
    "log_alpha_k_k, log_alpha_k_k_1 = forward_algorithm (O, T, p_x1, observations , N, k)\n",
    "alpha_k_k = np.exp(log_alpha_k_k)\n",
    "alpha_k_k_1 = np.exp(log_alpha_k_k_1)\n"
   ]
  },
  {
   "cell_type": "markdown",
   "metadata": {},
   "source": [
    "**Given a step number k, we calculate the distribution of the robot's current position given the observations so far by running : forward_algorithm (O, T, p_x1, observations , N, k) or simply : \n",
    "most_likely_pos[k-1]**"
   ]
  },
  {
   "cell_type": "markdown",
   "metadata": {},
   "source": [
    "$P( x_k | y_{1:k})\\quad \\forall \\quad k  \\in (1..K)$"
   ]
  },
  {
   "cell_type": "code",
   "execution_count": 482,
   "metadata": {},
   "outputs": [],
   "source": [
    "result = alpha_k_k / np.sum(alpha_k_k, 0)"
   ]
  },
  {
   "cell_type": "markdown",
   "metadata": {},
   "source": [
    "**Given a step number k, we calculate the distribution of the robot's current position given the observations so far by running : forward_algorithm (O, T, p_x1, observations , N, k) or simply : \n",
    "result[k-1]**"
   ]
  },
  {
   "cell_type": "code",
   "execution_count": 483,
   "metadata": {},
   "outputs": [
    {
     "data": {
      "image/png": "[encoded data removed]",
      "text/plain": [
       "<Figure size 1152x432 with 2 Axes>"
      ]
     },
     "metadata": {},
     "output_type": "display_data"
    }
   ],
   "source": [
    "#Heatmap of p(Xk | Y1:k)\n",
    "# Here in this graph, the position 0 corresponds to the first state X1\n",
    "p1 = sns.heatmap(result, cmap=\"YlGnBu\")\n"
   ]
  },
  {
   "cell_type": "markdown",
   "metadata": {},
   "source": [
    "##### Forward-Backward algorithm to calculate the distribution of the robot's position at time step k given all the observations : $\\quad p(x_{k} | y_{1:K} )$"
   ]
  },
  {
   "cell_type": "code",
   "execution_count": 484,
   "metadata": {},
   "outputs": [],
   "source": [
    "k = 0\n",
    "log_beta_k_k, log_beta_k_k_plus = backward_algorithm(O, T, obs , N, K)\n",
    "beta_k_k = np.exp(log_beta_k_k)\n",
    "beta_k_k_plus = np.exp(log_beta_k_k_plus)"
   ]
  },
  {
   "cell_type": "code",
   "execution_count": 485,
   "metadata": {},
   "outputs": [],
   "source": [
    "log_gamma_k = log_alpha_k_k + log_beta_k_k_plus"
   ]
  },
  {
   "cell_type": "code",
   "execution_count": 486,
   "metadata": {},
   "outputs": [],
   "source": [
    "gamma_k = np.exp(log_gamma_k)"
   ]
  },
  {
   "cell_type": "code",
   "execution_count": 487,
   "metadata": {},
   "outputs": [],
   "source": [
    "gamma_k = gamma_k / np.sum(gamma_k, 0)"
   ]
  },
  {
   "cell_type": "markdown",
   "metadata": {},
   "source": [
    "**Given a step number k, we calculate the distribution of the robot's position at time step k given all the observations by running : \n",
    "gamma_k[k-1]**"
   ]
  },
  {
   "cell_type": "code",
   "execution_count": 488,
   "metadata": {},
   "outputs": [
    {
     "data": {
      "image/png": "[encoded data removed]",
      "text/plain": [
       "<Figure size 1152x432 with 2 Axes>"
      ]
     },
     "metadata": {},
     "output_type": "display_data"
    }
   ],
   "source": [
    "#We plot gamma_k heatmap\n",
    "# Here in this graph, the position 0 corresponds to the first state X1\n",
    "p1 = sns.heatmap(gamma_k, cmap=\"YlGnBu\")"
   ]
  },
  {
   "cell_type": "markdown",
   "metadata": {},
   "source": [
    "##### Most likely current position of the robot given the observations so far : $\\quad max_{i} \\quad p(x_{k} = i\\quad | \\quad y_{1:k} )$"
   ]
  },
  {
   "cell_type": "code",
   "execution_count": 489,
   "metadata": {},
   "outputs": [],
   "source": [
    "result = alpha_k_k / np.sum(alpha_k_k, 0)\n",
    "most_likely_pos = np.argmax(result,0) + 1 # the first element of the vector (indice = 0) corresponds to the postion X = 1"
   ]
  },
  {
   "cell_type": "markdown",
   "metadata": {},
   "source": [
    "**Given a step number k, we calculate the most likely current position of the robot given the observations so far by running : \n",
    "most_likely_pos[k-1]**"
   ]
  },
  {
   "cell_type": "code",
   "execution_count": 490,
   "metadata": {},
   "outputs": [
    {
     "data": {
      "image/png": "[encoded data removed]",
      "text/plain": [
       "<Figure size 1152x432 with 1 Axes>"
      ]
     },
     "metadata": {},
     "output_type": "display_data"
    }
   ],
   "source": [
    "plt.plot(np.arange(1, K+1), states, 'ro',   label='Real positions')\n",
    "plt.plot(np.arange(1, K+1), most_likely_pos, 'bo',   label='Most likely position')\n",
    "plt.axis([0,100,0,50])\n",
    "plt.xlabel('step k')\n",
    "plt.ylabel('position')\n",
    "plt.title('Real positions and most likely positions ')\n",
    "plt.legend()\n",
    "plt.show()"
   ]
  },
  {
   "cell_type": "code",
   "execution_count": null,
   "metadata": {},
   "outputs": [],
   "source": []
  }
 ],
 "metadata": {
  "kernelspec": {
   "display_name": "Python 3",
   "language": "python",
   "name": "python3"
  },
  "language_info": {
   "codemirror_mode": {
    "name": "ipython",
    "version": 3
   },
   "file_extension": ".py",
   "mimetype": "text/x-python",
   "name": "python",
   "nbconvert_exporter": "python",
   "pygments_lexer": "ipython3",
   "version": "3.6.5"
  }
 },
 "nbformat": 4,
 "nbformat_minor": 2
}
